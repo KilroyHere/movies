{
 "cells": [
  {
   "cell_type": "code",
   "execution_count": 58,
   "metadata": {},
   "outputs": [],
   "source": [
    "from bs4 import BeautifulSoup\n",
    "import re\n",
    "import csv\n",
    "\n",
    "def clean_title(title):\n",
    "    return ' '.join(title.split()).strip()\n",
    "\n",
    "def extract_movie_details(html_content):\n",
    "    soup = BeautifulSoup(html_content, 'html.parser')\n",
    "\n",
    "    movies = soup.find_all('tr')[1:]  # Skipping the header row\n",
    "    movie_list = []\n",
    "\n",
    "    for movie in movies:\n",
    "        try:\n",
    "            info_cell = movie.find_all('td')[1]\n",
    "            full_text = info_cell.get_text(separator=' ').strip()\n",
    "\n",
    "            # Improved extraction of title and year\n",
    "            title_year_match = re.search(r'([^\\(]+)\\((\\d{4})', full_text)\n",
    "            if title_year_match:\n",
    "                title = clean_title(title_year_match.group(1))\n",
    "                year = title_year_match.group(2).strip()\n",
    "            else:\n",
    "                continue  # Skip the movie if title/year not found\n",
    "\n",
    "            # Extract runtime\n",
    "            runtime_match = re.search(r'(\\d+)\\s+minutes', full_text)\n",
    "            runtime = runtime_match.group(1) if runtime_match else \"Runtime not found\"\n",
    "        \n",
    "            movie_list.append((title, year, runtime))\n",
    "        except Exception as e:\n",
    "            print(f\"An error occurred while processing a movie: {e}\")\n",
    "\n",
    "    return movie_list\n"
   ]
  },
  {
   "cell_type": "code",
   "execution_count": 59,
   "metadata": {},
   "outputs": [
    {
     "name": "stdout",
     "output_type": "stream",
     "text": [
      "Movie details have been appended to movies.csv\n"
     ]
    }
   ],
   "source": [
    "# List of filenames from 1950 to 2023\n",
    "years = range(1940, 2024)  # From 1950 to 2023 inclusive\n",
    "directory = \"html/\"\n",
    "filenames = [f\"{directory}{year}.html\" for year in years]\n",
    "\n",
    "# CSV filename\n",
    "csv_filename = 'movies.csv'\n",
    "\n",
    "# Append to the csv file\n",
    "with open(csv_filename, 'a', newline='', encoding='utf-8') as csvfile:\n",
    "    csvwriter = csv.writer(csvfile)\n",
    "\n",
    "    # Process each HTML file\n",
    "    for filename in filenames:\n",
    "        try:\n",
    "            with open(filename, 'r', encoding='utf-8') as file:\n",
    "                html_content = file.read()\n",
    "\n",
    "            # Extract movie details\n",
    "            movie_details = extract_movie_details(html_content)\n",
    "\n",
    "            # Write each movie's details to the CSV\n",
    "            for movie in movie_details:\n",
    "                csvwriter.writerow(movie)\n",
    "\n",
    "        except Exception as e:\n",
    "            print(f\"An error occurred while processing file {filename}: {e}\")\n",
    "\n",
    "print(f\"Movie details have been appended to {csv_filename}\")"
   ]
  },
  {
   "cell_type": "code",
   "execution_count": 60,
   "metadata": {},
   "outputs": [
    {
     "name": "stdout",
     "output_type": "stream",
     "text": [
      "('Alien', '1979', '116')\n",
      "('All That Jazz', '1979', '123')\n",
      "('...And Justice For All', '1979', '119')\n",
      "('Apocalypse Now', '1979', '139')\n",
      "('Being There', '1979', '130')\n",
      "('The Black Stallion', '1979', '118')\n",
      "('Breaking Away', '1979', '100')\n",
      "('The China Syndrome', '1979', '122')\n",
      "('The Jerk', '1979', '94')\n",
      "('Kramer vs. Kramer', '1979', '104')\n",
      "('Mad Max', '1979', '93')\n",
      "('Manhattan', '1979', '96')\n",
      "('The Marriage of Maria Braun', '1979', '120')\n",
      "(\"Monty Python's) Life of Brian\", '1979', '93')\n",
      "('Moscow Does Not Believe in Tears', '1979', '140')\n",
      "('The Muppet Movie', '1979', '95')\n",
      "('Norma Rae', '1979', '110')\n",
      "('North Dallas Forty', '1979', '119')\n",
      "('Nosferatu: The Vampyr', '1979', '107')\n",
      "('The Onion Field', '1979', '126')\n",
      "('Real Life', '1979', '99')\n",
      "('Star Trek - The Motion Picture', '1979', '132')\n",
      "('10', '1979', '121')\n",
      "('Tess', '1979', '170')\n",
      "('The Tin Drum', '1979', '142')\n",
      "('The Warriors', '1979', '90')\n"
     ]
    }
   ],
   "source": [
    "with open('html/1979.html', 'r', encoding='utf-8') as file:\n",
    "    html_content = file.read()\n",
    "# Extract movie details\n",
    "movie_details = extract_movie_details(html_content)\n",
    "for movie in movie_details:\n",
    "    print(movie)\n"
   ]
  }
 ],
 "metadata": {
  "kernelspec": {
   "display_name": "Python 3",
   "language": "python",
   "name": "python3"
  },
  "language_info": {
   "codemirror_mode": {
    "name": "ipython",
    "version": 3
   },
   "file_extension": ".py",
   "mimetype": "text/x-python",
   "name": "python",
   "nbconvert_exporter": "python",
   "pygments_lexer": "ipython3",
   "version": "3.11.4"
  }
 },
 "nbformat": 4,
 "nbformat_minor": 2
}
